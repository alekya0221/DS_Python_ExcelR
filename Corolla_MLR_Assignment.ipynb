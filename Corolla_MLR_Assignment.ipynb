{
  "nbformat": 4,
  "nbformat_minor": 0,
  "metadata": {
    "colab": {
      "provenance": [],
      "include_colab_link": true
    },
    "kernelspec": {
      "name": "python3",
      "display_name": "Python 3"
    },
    "language_info": {
      "name": "python"
    }
  },
  "cells": [
    {
      "cell_type": "markdown",
      "metadata": {
        "id": "view-in-github",
        "colab_type": "text"
      },
      "source": [
        "<a href=\"https://colab.research.google.com/github/alekya0221/DS_Python_ExcelR/blob/main/Corolla_MLR_Assignment.ipynb\" target=\"_parent\"><img src=\"https://colab.research.google.com/assets/colab-badge.svg\" alt=\"Open In Colab\"/></a>"
      ]
    },
    {
      "cell_type": "markdown",
      "source": [
        "# Importing Libraries"
      ],
      "metadata": {
        "id": "qSojbW_rJ7Kr"
      }
    },
    {
      "cell_type": "code",
      "source": [
        "import numpy as np\n",
        "import pandas as pd\n",
        "import matplotlib.pyplot as plt\n"
      ],
      "metadata": {
        "id": "p_Q6mkQPKRYY"
      },
      "execution_count": 1,
      "outputs": []
    },
    {
      "cell_type": "markdown",
      "source": [
        "# Importing Dataset"
      ],
      "metadata": {
        "id": "aw1WA784NZEx"
      }
    },
    {
      "cell_type": "code",
      "source": [
        "dscorolla = pd.read_csv('/content/ToyotaCorolla.csv',encoding='latin1')"
      ],
      "metadata": {
        "id": "BbhDM80tNau1"
      },
      "execution_count": 2,
      "outputs": []
    },
    {
      "cell_type": "code",
      "source": [
        "dscorolla.head()"
      ],
      "metadata": {
        "colab": {
          "base_uri": "https://localhost:8080/",
          "height": 803
        },
        "id": "DeU62QvpNqJV",
        "outputId": "311ef6e0-e1d6-41f9-9a8d-4cd9c10f424c"
      },
      "execution_count": 3,
      "outputs": [
        {
          "output_type": "execute_result",
          "data": {
            "text/plain": [
              "   Id                                           Model  Price  Age_08_04  \\\n",
              "0   1   TOYOTA Corolla 2.0 D4D HATCHB TERRA 2/3-Doors  13500         23   \n",
              "1   2   TOYOTA Corolla 2.0 D4D HATCHB TERRA 2/3-Doors  13750         23   \n",
              "2   3   TOYOTA Corolla 2.0 D4D HATCHB TERRA 2/3-Doors  13950         24   \n",
              "3   4   TOYOTA Corolla 2.0 D4D HATCHB TERRA 2/3-Doors  14950         26   \n",
              "4   5     TOYOTA Corolla 2.0 D4D HATCHB SOL 2/3-Doors  13750         30   \n",
              "\n",
              "   Mfg_Month  Mfg_Year     KM Fuel_Type  HP  Met_Color  ... Central_Lock  \\\n",
              "0         10      2002  46986    Diesel  90          1  ...            1   \n",
              "1         10      2002  72937    Diesel  90          1  ...            1   \n",
              "2          9      2002  41711    Diesel  90          1  ...            0   \n",
              "3          7      2002  48000    Diesel  90          0  ...            0   \n",
              "4          3      2002  38500    Diesel  90          0  ...            1   \n",
              "\n",
              "   Powered_Windows  Power_Steering  Radio  Mistlamps  Sport_Model  \\\n",
              "0                1               1      0          0            0   \n",
              "1                0               1      0          0            0   \n",
              "2                0               1      0          0            0   \n",
              "3                0               1      0          0            0   \n",
              "4                1               1      0          1            0   \n",
              "\n",
              "   Backseat_Divider  Metallic_Rim  Radio_cassette  Tow_Bar  \n",
              "0                 1             0               0        0  \n",
              "1                 1             0               0        0  \n",
              "2                 1             0               0        0  \n",
              "3                 1             0               0        0  \n",
              "4                 1             0               0        0  \n",
              "\n",
              "[5 rows x 38 columns]"
            ],
            "text/html": [
              "\n",
              "  <div id=\"df-32089fe7-7aa0-4e7a-b2ec-cd782727757c\">\n",
              "    <div class=\"colab-df-container\">\n",
              "      <div>\n",
              "<style scoped>\n",
              "    .dataframe tbody tr th:only-of-type {\n",
              "        vertical-align: middle;\n",
              "    }\n",
              "\n",
              "    .dataframe tbody tr th {\n",
              "        vertical-align: top;\n",
              "    }\n",
              "\n",
              "    .dataframe thead th {\n",
              "        text-align: right;\n",
              "    }\n",
              "</style>\n",
              "<table border=\"1\" class=\"dataframe\">\n",
              "  <thead>\n",
              "    <tr style=\"text-align: right;\">\n",
              "      <th></th>\n",
              "      <th>Id</th>\n",
              "      <th>Model</th>\n",
              "      <th>Price</th>\n",
              "      <th>Age_08_04</th>\n",
              "      <th>Mfg_Month</th>\n",
              "      <th>Mfg_Year</th>\n",
              "      <th>KM</th>\n",
              "      <th>Fuel_Type</th>\n",
              "      <th>HP</th>\n",
              "      <th>Met_Color</th>\n",
              "      <th>...</th>\n",
              "      <th>Central_Lock</th>\n",
              "      <th>Powered_Windows</th>\n",
              "      <th>Power_Steering</th>\n",
              "      <th>Radio</th>\n",
              "      <th>Mistlamps</th>\n",
              "      <th>Sport_Model</th>\n",
              "      <th>Backseat_Divider</th>\n",
              "      <th>Metallic_Rim</th>\n",
              "      <th>Radio_cassette</th>\n",
              "      <th>Tow_Bar</th>\n",
              "    </tr>\n",
              "  </thead>\n",
              "  <tbody>\n",
              "    <tr>\n",
              "      <th>0</th>\n",
              "      <td>1</td>\n",
              "      <td>TOYOTA Corolla 2.0 D4D HATCHB TERRA 2/3-Doors</td>\n",
              "      <td>13500</td>\n",
              "      <td>23</td>\n",
              "      <td>10</td>\n",
              "      <td>2002</td>\n",
              "      <td>46986</td>\n",
              "      <td>Diesel</td>\n",
              "      <td>90</td>\n",
              "      <td>1</td>\n",
              "      <td>...</td>\n",
              "      <td>1</td>\n",
              "      <td>1</td>\n",
              "      <td>1</td>\n",
              "      <td>0</td>\n",
              "      <td>0</td>\n",
              "      <td>0</td>\n",
              "      <td>1</td>\n",
              "      <td>0</td>\n",
              "      <td>0</td>\n",
              "      <td>0</td>\n",
              "    </tr>\n",
              "    <tr>\n",
              "      <th>1</th>\n",
              "      <td>2</td>\n",
              "      <td>TOYOTA Corolla 2.0 D4D HATCHB TERRA 2/3-Doors</td>\n",
              "      <td>13750</td>\n",
              "      <td>23</td>\n",
              "      <td>10</td>\n",
              "      <td>2002</td>\n",
              "      <td>72937</td>\n",
              "      <td>Diesel</td>\n",
              "      <td>90</td>\n",
              "      <td>1</td>\n",
              "      <td>...</td>\n",
              "      <td>1</td>\n",
              "      <td>0</td>\n",
              "      <td>1</td>\n",
              "      <td>0</td>\n",
              "      <td>0</td>\n",
              "      <td>0</td>\n",
              "      <td>1</td>\n",
              "      <td>0</td>\n",
              "      <td>0</td>\n",
              "      <td>0</td>\n",
              "    </tr>\n",
              "    <tr>\n",
              "      <th>2</th>\n",
              "      <td>3</td>\n",
              "      <td>TOYOTA Corolla 2.0 D4D HATCHB TERRA 2/3-Doors</td>\n",
              "      <td>13950</td>\n",
              "      <td>24</td>\n",
              "      <td>9</td>\n",
              "      <td>2002</td>\n",
              "      <td>41711</td>\n",
              "      <td>Diesel</td>\n",
              "      <td>90</td>\n",
              "      <td>1</td>\n",
              "      <td>...</td>\n",
              "      <td>0</td>\n",
              "      <td>0</td>\n",
              "      <td>1</td>\n",
              "      <td>0</td>\n",
              "      <td>0</td>\n",
              "      <td>0</td>\n",
              "      <td>1</td>\n",
              "      <td>0</td>\n",
              "      <td>0</td>\n",
              "      <td>0</td>\n",
              "    </tr>\n",
              "    <tr>\n",
              "      <th>3</th>\n",
              "      <td>4</td>\n",
              "      <td>TOYOTA Corolla 2.0 D4D HATCHB TERRA 2/3-Doors</td>\n",
              "      <td>14950</td>\n",
              "      <td>26</td>\n",
              "      <td>7</td>\n",
              "      <td>2002</td>\n",
              "      <td>48000</td>\n",
              "      <td>Diesel</td>\n",
              "      <td>90</td>\n",
              "      <td>0</td>\n",
              "      <td>...</td>\n",
              "      <td>0</td>\n",
              "      <td>0</td>\n",
              "      <td>1</td>\n",
              "      <td>0</td>\n",
              "      <td>0</td>\n",
              "      <td>0</td>\n",
              "      <td>1</td>\n",
              "      <td>0</td>\n",
              "      <td>0</td>\n",
              "      <td>0</td>\n",
              "    </tr>\n",
              "    <tr>\n",
              "      <th>4</th>\n",
              "      <td>5</td>\n",
              "      <td>TOYOTA Corolla 2.0 D4D HATCHB SOL 2/3-Doors</td>\n",
              "      <td>13750</td>\n",
              "      <td>30</td>\n",
              "      <td>3</td>\n",
              "      <td>2002</td>\n",
              "      <td>38500</td>\n",
              "      <td>Diesel</td>\n",
              "      <td>90</td>\n",
              "      <td>0</td>\n",
              "      <td>...</td>\n",
              "      <td>1</td>\n",
              "      <td>1</td>\n",
              "      <td>1</td>\n",
              "      <td>0</td>\n",
              "      <td>1</td>\n",
              "      <td>0</td>\n",
              "      <td>1</td>\n",
              "      <td>0</td>\n",
              "      <td>0</td>\n",
              "      <td>0</td>\n",
              "    </tr>\n",
              "  </tbody>\n",
              "</table>\n",
              "<p>5 rows × 38 columns</p>\n",
              "</div>\n",
              "      <button class=\"colab-df-convert\" onclick=\"convertToInteractive('df-32089fe7-7aa0-4e7a-b2ec-cd782727757c')\"\n",
              "              title=\"Convert this dataframe to an interactive table.\"\n",
              "              style=\"display:none;\">\n",
              "        \n",
              "  <svg xmlns=\"http://www.w3.org/2000/svg\" height=\"24px\"viewBox=\"0 0 24 24\"\n",
              "       width=\"24px\">\n",
              "    <path d=\"M0 0h24v24H0V0z\" fill=\"none\"/>\n",
              "    <path d=\"M18.56 5.44l.94 2.06.94-2.06 2.06-.94-2.06-.94-.94-2.06-.94 2.06-2.06.94zm-11 1L8.5 8.5l.94-2.06 2.06-.94-2.06-.94L8.5 2.5l-.94 2.06-2.06.94zm10 10l.94 2.06.94-2.06 2.06-.94-2.06-.94-.94-2.06-.94 2.06-2.06.94z\"/><path d=\"M17.41 7.96l-1.37-1.37c-.4-.4-.92-.59-1.43-.59-.52 0-1.04.2-1.43.59L10.3 9.45l-7.72 7.72c-.78.78-.78 2.05 0 2.83L4 21.41c.39.39.9.59 1.41.59.51 0 1.02-.2 1.41-.59l7.78-7.78 2.81-2.81c.8-.78.8-2.07 0-2.86zM5.41 20L4 18.59l7.72-7.72 1.47 1.35L5.41 20z\"/>\n",
              "  </svg>\n",
              "      </button>\n",
              "      \n",
              "  <style>\n",
              "    .colab-df-container {\n",
              "      display:flex;\n",
              "      flex-wrap:wrap;\n",
              "      gap: 12px;\n",
              "    }\n",
              "\n",
              "    .colab-df-convert {\n",
              "      background-color: #E8F0FE;\n",
              "      border: none;\n",
              "      border-radius: 50%;\n",
              "      cursor: pointer;\n",
              "      display: none;\n",
              "      fill: #1967D2;\n",
              "      height: 32px;\n",
              "      padding: 0 0 0 0;\n",
              "      width: 32px;\n",
              "    }\n",
              "\n",
              "    .colab-df-convert:hover {\n",
              "      background-color: #E2EBFA;\n",
              "      box-shadow: 0px 1px 2px rgba(60, 64, 67, 0.3), 0px 1px 3px 1px rgba(60, 64, 67, 0.15);\n",
              "      fill: #174EA6;\n",
              "    }\n",
              "\n",
              "    [theme=dark] .colab-df-convert {\n",
              "      background-color: #3B4455;\n",
              "      fill: #D2E3FC;\n",
              "    }\n",
              "\n",
              "    [theme=dark] .colab-df-convert:hover {\n",
              "      background-color: #434B5C;\n",
              "      box-shadow: 0px 1px 3px 1px rgba(0, 0, 0, 0.15);\n",
              "      filter: drop-shadow(0px 1px 2px rgba(0, 0, 0, 0.3));\n",
              "      fill: #FFFFFF;\n",
              "    }\n",
              "  </style>\n",
              "\n",
              "      <script>\n",
              "        const buttonEl =\n",
              "          document.querySelector('#df-32089fe7-7aa0-4e7a-b2ec-cd782727757c button.colab-df-convert');\n",
              "        buttonEl.style.display =\n",
              "          google.colab.kernel.accessAllowed ? 'block' : 'none';\n",
              "\n",
              "        async function convertToInteractive(key) {\n",
              "          const element = document.querySelector('#df-32089fe7-7aa0-4e7a-b2ec-cd782727757c');\n",
              "          const dataTable =\n",
              "            await google.colab.kernel.invokeFunction('convertToInteractive',\n",
              "                                                     [key], {});\n",
              "          if (!dataTable) return;\n",
              "\n",
              "          const docLinkHtml = 'Like what you see? Visit the ' +\n",
              "            '<a target=\"_blank\" href=https://colab.research.google.com/notebooks/data_table.ipynb>data table notebook</a>'\n",
              "            + ' to learn more about interactive tables.';\n",
              "          element.innerHTML = '';\n",
              "          dataTable['output_type'] = 'display_data';\n",
              "          await google.colab.output.renderOutput(dataTable, element);\n",
              "          const docLink = document.createElement('div');\n",
              "          docLink.innerHTML = docLinkHtml;\n",
              "          element.appendChild(docLink);\n",
              "        }\n",
              "      </script>\n",
              "    </div>\n",
              "  </div>\n",
              "  "
            ]
          },
          "metadata": {},
          "execution_count": 3
        }
      ]
    },
    {
      "cell_type": "code",
      "source": [
        "dscorolla.info()"
      ],
      "metadata": {
        "colab": {
          "base_uri": "https://localhost:8080/"
        },
        "id": "murqJR1_N7TH",
        "outputId": "bafc00f7-aa47-44a2-def2-5f9bdb352fab"
      },
      "execution_count": 4,
      "outputs": [
        {
          "output_type": "stream",
          "name": "stdout",
          "text": [
            "<class 'pandas.core.frame.DataFrame'>\n",
            "RangeIndex: 1436 entries, 0 to 1435\n",
            "Data columns (total 38 columns):\n",
            " #   Column            Non-Null Count  Dtype \n",
            "---  ------            --------------  ----- \n",
            " 0   Id                1436 non-null   int64 \n",
            " 1   Model             1436 non-null   object\n",
            " 2   Price             1436 non-null   int64 \n",
            " 3   Age_08_04         1436 non-null   int64 \n",
            " 4   Mfg_Month         1436 non-null   int64 \n",
            " 5   Mfg_Year          1436 non-null   int64 \n",
            " 6   KM                1436 non-null   int64 \n",
            " 7   Fuel_Type         1436 non-null   object\n",
            " 8   HP                1436 non-null   int64 \n",
            " 9   Met_Color         1436 non-null   int64 \n",
            " 10  Color             1436 non-null   object\n",
            " 11  Automatic         1436 non-null   int64 \n",
            " 12  cc                1436 non-null   int64 \n",
            " 13  Doors             1436 non-null   int64 \n",
            " 14  Cylinders         1436 non-null   int64 \n",
            " 15  Gears             1436 non-null   int64 \n",
            " 16  Quarterly_Tax     1436 non-null   int64 \n",
            " 17  Weight            1436 non-null   int64 \n",
            " 18  Mfr_Guarantee     1436 non-null   int64 \n",
            " 19  BOVAG_Guarantee   1436 non-null   int64 \n",
            " 20  Guarantee_Period  1436 non-null   int64 \n",
            " 21  ABS               1436 non-null   int64 \n",
            " 22  Airbag_1          1436 non-null   int64 \n",
            " 23  Airbag_2          1436 non-null   int64 \n",
            " 24  Airco             1436 non-null   int64 \n",
            " 25  Automatic_airco   1436 non-null   int64 \n",
            " 26  Boardcomputer     1436 non-null   int64 \n",
            " 27  CD_Player         1436 non-null   int64 \n",
            " 28  Central_Lock      1436 non-null   int64 \n",
            " 29  Powered_Windows   1436 non-null   int64 \n",
            " 30  Power_Steering    1436 non-null   int64 \n",
            " 31  Radio             1436 non-null   int64 \n",
            " 32  Mistlamps         1436 non-null   int64 \n",
            " 33  Sport_Model       1436 non-null   int64 \n",
            " 34  Backseat_Divider  1436 non-null   int64 \n",
            " 35  Metallic_Rim      1436 non-null   int64 \n",
            " 36  Radio_cassette    1436 non-null   int64 \n",
            " 37  Tow_Bar           1436 non-null   int64 \n",
            "dtypes: int64(35), object(3)\n",
            "memory usage: 426.4+ KB\n"
          ]
        }
      ]
    },
    {
      "cell_type": "code",
      "source": [
        "corolla=dscorolla.iloc[:, [2, 3, 6, 8, 12, 13, 15, 16, 17]]\n",
        "corolla"
      ],
      "metadata": {
        "colab": {
          "base_uri": "https://localhost:8080/",
          "height": 424
        },
        "id": "_tOgpOLzJLEu",
        "outputId": "ab3398dc-a1c1-42c6-d58d-d3d961f9170e"
      },
      "execution_count": 5,
      "outputs": [
        {
          "output_type": "execute_result",
          "data": {
            "text/plain": [
              "      Price  Age_08_04     KM   HP    cc  Doors  Gears  Quarterly_Tax  Weight\n",
              "0     13500         23  46986   90  2000      3      5            210    1165\n",
              "1     13750         23  72937   90  2000      3      5            210    1165\n",
              "2     13950         24  41711   90  2000      3      5            210    1165\n",
              "3     14950         26  48000   90  2000      3      5            210    1165\n",
              "4     13750         30  38500   90  2000      3      5            210    1170\n",
              "...     ...        ...    ...  ...   ...    ...    ...            ...     ...\n",
              "1431   7500         69  20544   86  1300      3      5             69    1025\n",
              "1432  10845         72  19000   86  1300      3      5             69    1015\n",
              "1433   8500         71  17016   86  1300      3      5             69    1015\n",
              "1434   7250         70  16916   86  1300      3      5             69    1015\n",
              "1435   6950         76      1  110  1600      5      5             19    1114\n",
              "\n",
              "[1436 rows x 9 columns]"
            ],
            "text/html": [
              "\n",
              "  <div id=\"df-9dca10ce-1ed7-46b7-9075-a24c360bb093\">\n",
              "    <div class=\"colab-df-container\">\n",
              "      <div>\n",
              "<style scoped>\n",
              "    .dataframe tbody tr th:only-of-type {\n",
              "        vertical-align: middle;\n",
              "    }\n",
              "\n",
              "    .dataframe tbody tr th {\n",
              "        vertical-align: top;\n",
              "    }\n",
              "\n",
              "    .dataframe thead th {\n",
              "        text-align: right;\n",
              "    }\n",
              "</style>\n",
              "<table border=\"1\" class=\"dataframe\">\n",
              "  <thead>\n",
              "    <tr style=\"text-align: right;\">\n",
              "      <th></th>\n",
              "      <th>Price</th>\n",
              "      <th>Age_08_04</th>\n",
              "      <th>KM</th>\n",
              "      <th>HP</th>\n",
              "      <th>cc</th>\n",
              "      <th>Doors</th>\n",
              "      <th>Gears</th>\n",
              "      <th>Quarterly_Tax</th>\n",
              "      <th>Weight</th>\n",
              "    </tr>\n",
              "  </thead>\n",
              "  <tbody>\n",
              "    <tr>\n",
              "      <th>0</th>\n",
              "      <td>13500</td>\n",
              "      <td>23</td>\n",
              "      <td>46986</td>\n",
              "      <td>90</td>\n",
              "      <td>2000</td>\n",
              "      <td>3</td>\n",
              "      <td>5</td>\n",
              "      <td>210</td>\n",
              "      <td>1165</td>\n",
              "    </tr>\n",
              "    <tr>\n",
              "      <th>1</th>\n",
              "      <td>13750</td>\n",
              "      <td>23</td>\n",
              "      <td>72937</td>\n",
              "      <td>90</td>\n",
              "      <td>2000</td>\n",
              "      <td>3</td>\n",
              "      <td>5</td>\n",
              "      <td>210</td>\n",
              "      <td>1165</td>\n",
              "    </tr>\n",
              "    <tr>\n",
              "      <th>2</th>\n",
              "      <td>13950</td>\n",
              "      <td>24</td>\n",
              "      <td>41711</td>\n",
              "      <td>90</td>\n",
              "      <td>2000</td>\n",
              "      <td>3</td>\n",
              "      <td>5</td>\n",
              "      <td>210</td>\n",
              "      <td>1165</td>\n",
              "    </tr>\n",
              "    <tr>\n",
              "      <th>3</th>\n",
              "      <td>14950</td>\n",
              "      <td>26</td>\n",
              "      <td>48000</td>\n",
              "      <td>90</td>\n",
              "      <td>2000</td>\n",
              "      <td>3</td>\n",
              "      <td>5</td>\n",
              "      <td>210</td>\n",
              "      <td>1165</td>\n",
              "    </tr>\n",
              "    <tr>\n",
              "      <th>4</th>\n",
              "      <td>13750</td>\n",
              "      <td>30</td>\n",
              "      <td>38500</td>\n",
              "      <td>90</td>\n",
              "      <td>2000</td>\n",
              "      <td>3</td>\n",
              "      <td>5</td>\n",
              "      <td>210</td>\n",
              "      <td>1170</td>\n",
              "    </tr>\n",
              "    <tr>\n",
              "      <th>...</th>\n",
              "      <td>...</td>\n",
              "      <td>...</td>\n",
              "      <td>...</td>\n",
              "      <td>...</td>\n",
              "      <td>...</td>\n",
              "      <td>...</td>\n",
              "      <td>...</td>\n",
              "      <td>...</td>\n",
              "      <td>...</td>\n",
              "    </tr>\n",
              "    <tr>\n",
              "      <th>1431</th>\n",
              "      <td>7500</td>\n",
              "      <td>69</td>\n",
              "      <td>20544</td>\n",
              "      <td>86</td>\n",
              "      <td>1300</td>\n",
              "      <td>3</td>\n",
              "      <td>5</td>\n",
              "      <td>69</td>\n",
              "      <td>1025</td>\n",
              "    </tr>\n",
              "    <tr>\n",
              "      <th>1432</th>\n",
              "      <td>10845</td>\n",
              "      <td>72</td>\n",
              "      <td>19000</td>\n",
              "      <td>86</td>\n",
              "      <td>1300</td>\n",
              "      <td>3</td>\n",
              "      <td>5</td>\n",
              "      <td>69</td>\n",
              "      <td>1015</td>\n",
              "    </tr>\n",
              "    <tr>\n",
              "      <th>1433</th>\n",
              "      <td>8500</td>\n",
              "      <td>71</td>\n",
              "      <td>17016</td>\n",
              "      <td>86</td>\n",
              "      <td>1300</td>\n",
              "      <td>3</td>\n",
              "      <td>5</td>\n",
              "      <td>69</td>\n",
              "      <td>1015</td>\n",
              "    </tr>\n",
              "    <tr>\n",
              "      <th>1434</th>\n",
              "      <td>7250</td>\n",
              "      <td>70</td>\n",
              "      <td>16916</td>\n",
              "      <td>86</td>\n",
              "      <td>1300</td>\n",
              "      <td>3</td>\n",
              "      <td>5</td>\n",
              "      <td>69</td>\n",
              "      <td>1015</td>\n",
              "    </tr>\n",
              "    <tr>\n",
              "      <th>1435</th>\n",
              "      <td>6950</td>\n",
              "      <td>76</td>\n",
              "      <td>1</td>\n",
              "      <td>110</td>\n",
              "      <td>1600</td>\n",
              "      <td>5</td>\n",
              "      <td>5</td>\n",
              "      <td>19</td>\n",
              "      <td>1114</td>\n",
              "    </tr>\n",
              "  </tbody>\n",
              "</table>\n",
              "<p>1436 rows × 9 columns</p>\n",
              "</div>\n",
              "      <button class=\"colab-df-convert\" onclick=\"convertToInteractive('df-9dca10ce-1ed7-46b7-9075-a24c360bb093')\"\n",
              "              title=\"Convert this dataframe to an interactive table.\"\n",
              "              style=\"display:none;\">\n",
              "        \n",
              "  <svg xmlns=\"http://www.w3.org/2000/svg\" height=\"24px\"viewBox=\"0 0 24 24\"\n",
              "       width=\"24px\">\n",
              "    <path d=\"M0 0h24v24H0V0z\" fill=\"none\"/>\n",
              "    <path d=\"M18.56 5.44l.94 2.06.94-2.06 2.06-.94-2.06-.94-.94-2.06-.94 2.06-2.06.94zm-11 1L8.5 8.5l.94-2.06 2.06-.94-2.06-.94L8.5 2.5l-.94 2.06-2.06.94zm10 10l.94 2.06.94-2.06 2.06-.94-2.06-.94-.94-2.06-.94 2.06-2.06.94z\"/><path d=\"M17.41 7.96l-1.37-1.37c-.4-.4-.92-.59-1.43-.59-.52 0-1.04.2-1.43.59L10.3 9.45l-7.72 7.72c-.78.78-.78 2.05 0 2.83L4 21.41c.39.39.9.59 1.41.59.51 0 1.02-.2 1.41-.59l7.78-7.78 2.81-2.81c.8-.78.8-2.07 0-2.86zM5.41 20L4 18.59l7.72-7.72 1.47 1.35L5.41 20z\"/>\n",
              "  </svg>\n",
              "      </button>\n",
              "      \n",
              "  <style>\n",
              "    .colab-df-container {\n",
              "      display:flex;\n",
              "      flex-wrap:wrap;\n",
              "      gap: 12px;\n",
              "    }\n",
              "\n",
              "    .colab-df-convert {\n",
              "      background-color: #E8F0FE;\n",
              "      border: none;\n",
              "      border-radius: 50%;\n",
              "      cursor: pointer;\n",
              "      display: none;\n",
              "      fill: #1967D2;\n",
              "      height: 32px;\n",
              "      padding: 0 0 0 0;\n",
              "      width: 32px;\n",
              "    }\n",
              "\n",
              "    .colab-df-convert:hover {\n",
              "      background-color: #E2EBFA;\n",
              "      box-shadow: 0px 1px 2px rgba(60, 64, 67, 0.3), 0px 1px 3px 1px rgba(60, 64, 67, 0.15);\n",
              "      fill: #174EA6;\n",
              "    }\n",
              "\n",
              "    [theme=dark] .colab-df-convert {\n",
              "      background-color: #3B4455;\n",
              "      fill: #D2E3FC;\n",
              "    }\n",
              "\n",
              "    [theme=dark] .colab-df-convert:hover {\n",
              "      background-color: #434B5C;\n",
              "      box-shadow: 0px 1px 3px 1px rgba(0, 0, 0, 0.15);\n",
              "      filter: drop-shadow(0px 1px 2px rgba(0, 0, 0, 0.3));\n",
              "      fill: #FFFFFF;\n",
              "    }\n",
              "  </style>\n",
              "\n",
              "      <script>\n",
              "        const buttonEl =\n",
              "          document.querySelector('#df-9dca10ce-1ed7-46b7-9075-a24c360bb093 button.colab-df-convert');\n",
              "        buttonEl.style.display =\n",
              "          google.colab.kernel.accessAllowed ? 'block' : 'none';\n",
              "\n",
              "        async function convertToInteractive(key) {\n",
              "          const element = document.querySelector('#df-9dca10ce-1ed7-46b7-9075-a24c360bb093');\n",
              "          const dataTable =\n",
              "            await google.colab.kernel.invokeFunction('convertToInteractive',\n",
              "                                                     [key], {});\n",
              "          if (!dataTable) return;\n",
              "\n",
              "          const docLinkHtml = 'Like what you see? Visit the ' +\n",
              "            '<a target=\"_blank\" href=https://colab.research.google.com/notebooks/data_table.ipynb>data table notebook</a>'\n",
              "            + ' to learn more about interactive tables.';\n",
              "          element.innerHTML = '';\n",
              "          dataTable['output_type'] = 'display_data';\n",
              "          await google.colab.output.renderOutput(dataTable, element);\n",
              "          const docLink = document.createElement('div');\n",
              "          docLink.innerHTML = docLinkHtml;\n",
              "          element.appendChild(docLink);\n",
              "        }\n",
              "      </script>\n",
              "    </div>\n",
              "  </div>\n",
              "  "
            ]
          },
          "metadata": {},
          "execution_count": 5
        }
      ]
    },
    {
      "cell_type": "code",
      "source": [
        "#check for missing values: \n",
        "corolla.isna().sum()"
      ],
      "metadata": {
        "colab": {
          "base_uri": "https://localhost:8080/"
        },
        "id": "-hNd3vz37fT3",
        "outputId": "cea5fa31-e0a4-49f5-bb93-75b19c885a5b"
      },
      "execution_count": 6,
      "outputs": [
        {
          "output_type": "execute_result",
          "data": {
            "text/plain": [
              "Price            0\n",
              "Age_08_04        0\n",
              "KM               0\n",
              "HP               0\n",
              "cc               0\n",
              "Doors            0\n",
              "Gears            0\n",
              "Quarterly_Tax    0\n",
              "Weight           0\n",
              "dtype: int64"
            ]
          },
          "metadata": {},
          "execution_count": 6
        }
      ]
    },
    {
      "cell_type": "code",
      "source": [
        "corolla.corr()\n"
      ],
      "metadata": {
        "colab": {
          "base_uri": "https://localhost:8080/",
          "height": 332
        },
        "id": "sN5K-m3Pxt0m",
        "outputId": "dd89fdf6-82e8-489f-eda2-4ecc88c6a800"
      },
      "execution_count": 7,
      "outputs": [
        {
          "output_type": "execute_result",
          "data": {
            "text/plain": [
              "                  Price  Age_08_04        KM        HP        cc     Doors  \\\n",
              "Price          1.000000  -0.876590 -0.569960  0.314990  0.126389  0.185326   \n",
              "Age_08_04     -0.876590   1.000000  0.505672 -0.156622 -0.098084 -0.148359   \n",
              "KM            -0.569960   0.505672  1.000000 -0.333538  0.102683 -0.036197   \n",
              "HP             0.314990  -0.156622 -0.333538  1.000000  0.035856  0.092424   \n",
              "cc             0.126389  -0.098084  0.102683  0.035856  1.000000  0.079903   \n",
              "Doors          0.185326  -0.148359 -0.036197  0.092424  0.079903  1.000000   \n",
              "Gears          0.063104  -0.005364  0.015023  0.209477  0.014629 -0.160141   \n",
              "Quarterly_Tax  0.219197  -0.198431  0.278165 -0.298432  0.306996  0.109363   \n",
              "Weight         0.581198  -0.470253 -0.028598  0.089614  0.335637  0.302618   \n",
              "\n",
              "                  Gears  Quarterly_Tax    Weight  \n",
              "Price          0.063104       0.219197  0.581198  \n",
              "Age_08_04     -0.005364      -0.198431 -0.470253  \n",
              "KM             0.015023       0.278165 -0.028598  \n",
              "HP             0.209477      -0.298432  0.089614  \n",
              "cc             0.014629       0.306996  0.335637  \n",
              "Doors         -0.160141       0.109363  0.302618  \n",
              "Gears          1.000000      -0.005452  0.020613  \n",
              "Quarterly_Tax -0.005452       1.000000  0.626134  \n",
              "Weight         0.020613       0.626134  1.000000  "
            ],
            "text/html": [
              "\n",
              "  <div id=\"df-2bfaf7de-1821-493c-8286-8ee5f6535ae2\">\n",
              "    <div class=\"colab-df-container\">\n",
              "      <div>\n",
              "<style scoped>\n",
              "    .dataframe tbody tr th:only-of-type {\n",
              "        vertical-align: middle;\n",
              "    }\n",
              "\n",
              "    .dataframe tbody tr th {\n",
              "        vertical-align: top;\n",
              "    }\n",
              "\n",
              "    .dataframe thead th {\n",
              "        text-align: right;\n",
              "    }\n",
              "</style>\n",
              "<table border=\"1\" class=\"dataframe\">\n",
              "  <thead>\n",
              "    <tr style=\"text-align: right;\">\n",
              "      <th></th>\n",
              "      <th>Price</th>\n",
              "      <th>Age_08_04</th>\n",
              "      <th>KM</th>\n",
              "      <th>HP</th>\n",
              "      <th>cc</th>\n",
              "      <th>Doors</th>\n",
              "      <th>Gears</th>\n",
              "      <th>Quarterly_Tax</th>\n",
              "      <th>Weight</th>\n",
              "    </tr>\n",
              "  </thead>\n",
              "  <tbody>\n",
              "    <tr>\n",
              "      <th>Price</th>\n",
              "      <td>1.000000</td>\n",
              "      <td>-0.876590</td>\n",
              "      <td>-0.569960</td>\n",
              "      <td>0.314990</td>\n",
              "      <td>0.126389</td>\n",
              "      <td>0.185326</td>\n",
              "      <td>0.063104</td>\n",
              "      <td>0.219197</td>\n",
              "      <td>0.581198</td>\n",
              "    </tr>\n",
              "    <tr>\n",
              "      <th>Age_08_04</th>\n",
              "      <td>-0.876590</td>\n",
              "      <td>1.000000</td>\n",
              "      <td>0.505672</td>\n",
              "      <td>-0.156622</td>\n",
              "      <td>-0.098084</td>\n",
              "      <td>-0.148359</td>\n",
              "      <td>-0.005364</td>\n",
              "      <td>-0.198431</td>\n",
              "      <td>-0.470253</td>\n",
              "    </tr>\n",
              "    <tr>\n",
              "      <th>KM</th>\n",
              "      <td>-0.569960</td>\n",
              "      <td>0.505672</td>\n",
              "      <td>1.000000</td>\n",
              "      <td>-0.333538</td>\n",
              "      <td>0.102683</td>\n",
              "      <td>-0.036197</td>\n",
              "      <td>0.015023</td>\n",
              "      <td>0.278165</td>\n",
              "      <td>-0.028598</td>\n",
              "    </tr>\n",
              "    <tr>\n",
              "      <th>HP</th>\n",
              "      <td>0.314990</td>\n",
              "      <td>-0.156622</td>\n",
              "      <td>-0.333538</td>\n",
              "      <td>1.000000</td>\n",
              "      <td>0.035856</td>\n",
              "      <td>0.092424</td>\n",
              "      <td>0.209477</td>\n",
              "      <td>-0.298432</td>\n",
              "      <td>0.089614</td>\n",
              "    </tr>\n",
              "    <tr>\n",
              "      <th>cc</th>\n",
              "      <td>0.126389</td>\n",
              "      <td>-0.098084</td>\n",
              "      <td>0.102683</td>\n",
              "      <td>0.035856</td>\n",
              "      <td>1.000000</td>\n",
              "      <td>0.079903</td>\n",
              "      <td>0.014629</td>\n",
              "      <td>0.306996</td>\n",
              "      <td>0.335637</td>\n",
              "    </tr>\n",
              "    <tr>\n",
              "      <th>Doors</th>\n",
              "      <td>0.185326</td>\n",
              "      <td>-0.148359</td>\n",
              "      <td>-0.036197</td>\n",
              "      <td>0.092424</td>\n",
              "      <td>0.079903</td>\n",
              "      <td>1.000000</td>\n",
              "      <td>-0.160141</td>\n",
              "      <td>0.109363</td>\n",
              "      <td>0.302618</td>\n",
              "    </tr>\n",
              "    <tr>\n",
              "      <th>Gears</th>\n",
              "      <td>0.063104</td>\n",
              "      <td>-0.005364</td>\n",
              "      <td>0.015023</td>\n",
              "      <td>0.209477</td>\n",
              "      <td>0.014629</td>\n",
              "      <td>-0.160141</td>\n",
              "      <td>1.000000</td>\n",
              "      <td>-0.005452</td>\n",
              "      <td>0.020613</td>\n",
              "    </tr>\n",
              "    <tr>\n",
              "      <th>Quarterly_Tax</th>\n",
              "      <td>0.219197</td>\n",
              "      <td>-0.198431</td>\n",
              "      <td>0.278165</td>\n",
              "      <td>-0.298432</td>\n",
              "      <td>0.306996</td>\n",
              "      <td>0.109363</td>\n",
              "      <td>-0.005452</td>\n",
              "      <td>1.000000</td>\n",
              "      <td>0.626134</td>\n",
              "    </tr>\n",
              "    <tr>\n",
              "      <th>Weight</th>\n",
              "      <td>0.581198</td>\n",
              "      <td>-0.470253</td>\n",
              "      <td>-0.028598</td>\n",
              "      <td>0.089614</td>\n",
              "      <td>0.335637</td>\n",
              "      <td>0.302618</td>\n",
              "      <td>0.020613</td>\n",
              "      <td>0.626134</td>\n",
              "      <td>1.000000</td>\n",
              "    </tr>\n",
              "  </tbody>\n",
              "</table>\n",
              "</div>\n",
              "      <button class=\"colab-df-convert\" onclick=\"convertToInteractive('df-2bfaf7de-1821-493c-8286-8ee5f6535ae2')\"\n",
              "              title=\"Convert this dataframe to an interactive table.\"\n",
              "              style=\"display:none;\">\n",
              "        \n",
              "  <svg xmlns=\"http://www.w3.org/2000/svg\" height=\"24px\"viewBox=\"0 0 24 24\"\n",
              "       width=\"24px\">\n",
              "    <path d=\"M0 0h24v24H0V0z\" fill=\"none\"/>\n",
              "    <path d=\"M18.56 5.44l.94 2.06.94-2.06 2.06-.94-2.06-.94-.94-2.06-.94 2.06-2.06.94zm-11 1L8.5 8.5l.94-2.06 2.06-.94-2.06-.94L8.5 2.5l-.94 2.06-2.06.94zm10 10l.94 2.06.94-2.06 2.06-.94-2.06-.94-.94-2.06-.94 2.06-2.06.94z\"/><path d=\"M17.41 7.96l-1.37-1.37c-.4-.4-.92-.59-1.43-.59-.52 0-1.04.2-1.43.59L10.3 9.45l-7.72 7.72c-.78.78-.78 2.05 0 2.83L4 21.41c.39.39.9.59 1.41.59.51 0 1.02-.2 1.41-.59l7.78-7.78 2.81-2.81c.8-.78.8-2.07 0-2.86zM5.41 20L4 18.59l7.72-7.72 1.47 1.35L5.41 20z\"/>\n",
              "  </svg>\n",
              "      </button>\n",
              "      \n",
              "  <style>\n",
              "    .colab-df-container {\n",
              "      display:flex;\n",
              "      flex-wrap:wrap;\n",
              "      gap: 12px;\n",
              "    }\n",
              "\n",
              "    .colab-df-convert {\n",
              "      background-color: #E8F0FE;\n",
              "      border: none;\n",
              "      border-radius: 50%;\n",
              "      cursor: pointer;\n",
              "      display: none;\n",
              "      fill: #1967D2;\n",
              "      height: 32px;\n",
              "      padding: 0 0 0 0;\n",
              "      width: 32px;\n",
              "    }\n",
              "\n",
              "    .colab-df-convert:hover {\n",
              "      background-color: #E2EBFA;\n",
              "      box-shadow: 0px 1px 2px rgba(60, 64, 67, 0.3), 0px 1px 3px 1px rgba(60, 64, 67, 0.15);\n",
              "      fill: #174EA6;\n",
              "    }\n",
              "\n",
              "    [theme=dark] .colab-df-convert {\n",
              "      background-color: #3B4455;\n",
              "      fill: #D2E3FC;\n",
              "    }\n",
              "\n",
              "    [theme=dark] .colab-df-convert:hover {\n",
              "      background-color: #434B5C;\n",
              "      box-shadow: 0px 1px 3px 1px rgba(0, 0, 0, 0.15);\n",
              "      filter: drop-shadow(0px 1px 2px rgba(0, 0, 0, 0.3));\n",
              "      fill: #FFFFFF;\n",
              "    }\n",
              "  </style>\n",
              "\n",
              "      <script>\n",
              "        const buttonEl =\n",
              "          document.querySelector('#df-2bfaf7de-1821-493c-8286-8ee5f6535ae2 button.colab-df-convert');\n",
              "        buttonEl.style.display =\n",
              "          google.colab.kernel.accessAllowed ? 'block' : 'none';\n",
              "\n",
              "        async function convertToInteractive(key) {\n",
              "          const element = document.querySelector('#df-2bfaf7de-1821-493c-8286-8ee5f6535ae2');\n",
              "          const dataTable =\n",
              "            await google.colab.kernel.invokeFunction('convertToInteractive',\n",
              "                                                     [key], {});\n",
              "          if (!dataTable) return;\n",
              "\n",
              "          const docLinkHtml = 'Like what you see? Visit the ' +\n",
              "            '<a target=\"_blank\" href=https://colab.research.google.com/notebooks/data_table.ipynb>data table notebook</a>'\n",
              "            + ' to learn more about interactive tables.';\n",
              "          element.innerHTML = '';\n",
              "          dataTable['output_type'] = 'display_data';\n",
              "          await google.colab.output.renderOutput(dataTable, element);\n",
              "          const docLink = document.createElement('div');\n",
              "          docLink.innerHTML = docLinkHtml;\n",
              "          element.appendChild(docLink);\n",
              "        }\n",
              "      </script>\n",
              "    </div>\n",
              "  </div>\n",
              "  "
            ]
          },
          "metadata": {},
          "execution_count": 7
        }
      ]
    },
    {
      "cell_type": "code",
      "source": [
        "corolla.info()"
      ],
      "metadata": {
        "colab": {
          "base_uri": "https://localhost:8080/"
        },
        "id": "pj7Q4FNIYZxs",
        "outputId": "e094b618-518a-48fa-8a1e-4145af7da00a"
      },
      "execution_count": 8,
      "outputs": [
        {
          "output_type": "stream",
          "name": "stdout",
          "text": [
            "<class 'pandas.core.frame.DataFrame'>\n",
            "RangeIndex: 1436 entries, 0 to 1435\n",
            "Data columns (total 9 columns):\n",
            " #   Column         Non-Null Count  Dtype\n",
            "---  ------         --------------  -----\n",
            " 0   Price          1436 non-null   int64\n",
            " 1   Age_08_04      1436 non-null   int64\n",
            " 2   KM             1436 non-null   int64\n",
            " 3   HP             1436 non-null   int64\n",
            " 4   cc             1436 non-null   int64\n",
            " 5   Doors          1436 non-null   int64\n",
            " 6   Gears          1436 non-null   int64\n",
            " 7   Quarterly_Tax  1436 non-null   int64\n",
            " 8   Weight         1436 non-null   int64\n",
            "dtypes: int64(9)\n",
            "memory usage: 101.1 KB\n"
          ]
        }
      ]
    },
    {
      "cell_type": "code",
      "source": [
        "import seaborn as sns\n",
        "sns.heatmap(corolla.corr(), annot=True)"
      ],
      "metadata": {
        "colab": {
          "base_uri": "https://localhost:8080/",
          "height": 345
        },
        "id": "LT7hzZwox1ms",
        "outputId": "9355f767-e3b9-4331-dfb1-45582143d9bd"
      },
      "execution_count": 9,
      "outputs": [
        {
          "output_type": "execute_result",
          "data": {
            "text/plain": [
              "<Axes: >"
            ]
          },
          "metadata": {},
          "execution_count": 9
        },
        {
          "output_type": "display_data",
          "data": {
            "text/plain": [
              "<Figure size 432x288 with 2 Axes>"
            ],
            "image/png": "[encoded data removed]"
          },
          "metadata": {
            "needs_background": "light"
          }
        }
      ]
    },
    {
      "cell_type": "markdown",
      "source": [
        "# Independent and dependent Variables"
      ],
      "metadata": {
        "id": "O-YjvWHFPMq6"
      }
    },
    {
      "cell_type": "code",
      "source": [
        "X = corolla.iloc[:,[1,2,3,4,5,6,7,8]].values\n",
        "y = corolla.iloc[:,0].values"
      ],
      "metadata": {
        "id": "F0ujCB0CPRIP"
      },
      "execution_count": 29,
      "outputs": []
    },
    {
      "cell_type": "code",
      "source": [
        "X"
      ],
      "metadata": {
        "colab": {
          "base_uri": "https://localhost:8080/"
        },
        "id": "CkZXN_QKOBdt",
        "outputId": "be7cc2a2-65fe-4a1a-d00e-5e1564fe7971"
      },
      "execution_count": 30,
      "outputs": [
        {
          "output_type": "execute_result",
          "data": {
            "text/plain": [
              "array([[   23, 46986,    90, ...,     5,   210,  1165],\n",
              "       [   23, 72937,    90, ...,     5,   210,  1165],\n",
              "       [   24, 41711,    90, ...,     5,   210,  1165],\n",
              "       ...,\n",
              "       [   71, 17016,    86, ...,     5,    69,  1015],\n",
              "       [   70, 16916,    86, ...,     5,    69,  1015],\n",
              "       [   76,     1,   110, ...,     5,    19,  1114]])"
            ]
          },
          "metadata": {},
          "execution_count": 30
        }
      ]
    },
    {
      "cell_type": "markdown",
      "source": [
        "# Splitting the Dataset"
      ],
      "metadata": {
        "id": "MVDawmvO5Kud"
      }
    },
    {
      "cell_type": "code",
      "source": [
        "from sklearn.model_selection import train_test_split\n",
        "X_train, X_test, y_train, y_test = train_test_split(X, y, test_size = 0.2, random_state = 0)"
      ],
      "metadata": {
        "id": "uBdoumZO5Mhd"
      },
      "execution_count": 33,
      "outputs": []
    },
    {
      "cell_type": "code",
      "source": [
        "X_train"
      ],
      "metadata": {
        "colab": {
          "base_uri": "https://localhost:8080/"
        },
        "id": "yubUEQdW8EKv",
        "outputId": "bfae351d-c769-44c2-f16f-da44277359d1"
      },
      "execution_count": 34,
      "outputs": [
        {
          "output_type": "execute_result",
          "data": {
            "text/plain": [
              "array([[    67, 174833,     72, ...,      5,    185,   1100],\n",
              "       [    51,  53408,    110, ...,      5,     85,   1080],\n",
              "       [    60,  61977,     86, ...,      5,     69,   1015],\n",
              "       ...,\n",
              "       [    70,  85864,     72, ...,      5,    185,   1135],\n",
              "       [    50,  39706,    110, ...,      5,     85,   1080],\n",
              "       [    68, 101001,    110, ...,      5,     85,   1075]])"
            ]
          },
          "metadata": {},
          "execution_count": 34
        }
      ]
    },
    {
      "cell_type": "code",
      "source": [
        "X_test"
      ],
      "metadata": {
        "colab": {
          "base_uri": "https://localhost:8080/"
        },
        "id": "C2z1jZBU8FFl",
        "outputId": "4fe2e472-5c7a-4d37-c5bc-24a708287534"
      },
      "execution_count": 35,
      "outputs": [
        {
          "output_type": "execute_result",
          "data": {
            "text/plain": [
              "array([[    68, 115071,    110, ...,      5,     85,   1055],\n",
              "       [    52,  99323,    110, ...,      5,     85,   1055],\n",
              "       [    42,  29640,    110, ...,      5,     85,   1055],\n",
              "       ...,\n",
              "       [    67,  42102,    110, ...,      5,     85,   1075],\n",
              "       [    40,  32532,    110, ...,      5,     69,   1040],\n",
              "       [    69, 155000,     72, ...,      5,    185,   1115]])"
            ]
          },
          "metadata": {},
          "execution_count": 35
        }
      ]
    },
    {
      "cell_type": "code",
      "source": [
        "y_test"
      ],
      "metadata": {
        "colab": {
          "base_uri": "https://localhost:8080/"
        },
        "id": "4k2IFcGs8HE7",
        "outputId": "7daf34c4-82d2-4ba0-baf9-f1ed34d56dd1"
      },
      "execution_count": 36,
      "outputs": [
        {
          "output_type": "execute_result",
          "data": {
            "text/plain": [
              "array([ 7950, 10950, 14950,  7500,  9900,  8900,  6950, 15750, 11950,\n",
              "        9930,  8500, 10450, 11895,  9950,  6450, 15500, 11950,  6900,\n",
              "       10950,  9750,  7350,  8950, 13750, 14950, 19950,  9450, 11500,\n",
              "        8500,  9450,  8800, 11450, 10500, 13750,  8250, 10950, 11950,\n",
              "        8950, 12900,  9500,  9950,  8950,  9500,  9950, 15500, 10950,\n",
              "        7500,  9450,  9500, 10845,  8500, 19750,  8950,  7250,  6750,\n",
              "       10950, 19950, 11000,  8950, 17795, 10500,  5740,  7750, 10950,\n",
              "       10500, 12500, 12900,  8450,  7950, 19450, 11450,  9500,  4450,\n",
              "       11690,  7900, 14750, 14990,  9950,  7450,  6950,  8250,  6750,\n",
              "        6900,  5950, 12750, 11950, 10750,  8950, 11950,  8250,  7450,\n",
              "        6950, 10750, 17450,  9940,  7950, 12250, 12950, 10950, 12450,\n",
              "        6900,  8500, 10750,  9700,  9250,  7900, 19000, 18450,  8500,\n",
              "       13250, 10400, 12500,  9200,  8500,  8250, 13750,  8950,  7950,\n",
              "       10950,  9900,  7750, 20500,  9950, 13995, 10250,  7950, 23950,\n",
              "        7950, 11500,  9250,  9950, 17950,  8950,  9980, 10500, 21125,\n",
              "       11950, 11950, 12450,  7995, 13500, 15750,  8850,  8750,  7750,\n",
              "        9895, 20750, 11950, 13950, 10950, 11950,  7950, 12950,  9950,\n",
              "        8950, 11450, 16950,  9900,  8950,  8450,  8750,  7400,  8500,\n",
              "        7800, 16750,  9950,  6450, 21950,  8750,  8200, 15800, 10450,\n",
              "       10900,  9950,  7500,  8250,  9950,  8250, 11900, 16450,  9995,\n",
              "       10950,  8950,  9250, 14750, 11450,  8750,  8950, 13950, 13750,\n",
              "        5950,  9950,  8500,  4750, 10950, 10950,  8950, 18950,  8950,\n",
              "        7950,  6500,  9900, 10750, 13950, 15250, 11500,  8750, 10450,\n",
              "       11950,  8950,  6950, 10950,  6950,  9250,  7950,  7250, 17950,\n",
              "       22500, 10500,  7600, 10950,  6900,  6500,  9950,  9800, 12950,\n",
              "        9950,  9450, 16950,  9950, 10950,  7750, 10950,  8750, 12950,\n",
              "        8050,  8950,  7450,  7950,  8250, 14950,  8695,  9950,  5950,\n",
              "        7950, 18950,  7200, 12950,  6950, 11950,  8950,  8750,  7750,\n",
              "       12950,  9450,  7500, 10000,  9900, 16500,  8950, 10750, 19950,\n",
              "        9950, 14750,  6900, 13950,  8950, 16950,  9800,  7950,  9450,\n",
              "       12900,  8950, 10750, 13950,  6950, 19500, 21500,  7450,  9950,\n",
              "       11500,  6900,  8450,  5250, 10450,  9400,  9950, 11750,  7950])"
            ]
          },
          "metadata": {},
          "execution_count": 36
        }
      ]
    },
    {
      "cell_type": "code",
      "source": [
        "y_train"
      ],
      "metadata": {
        "colab": {
          "base_uri": "https://localhost:8080/"
        },
        "id": "FnZmYfr38JYB",
        "outputId": "f4c08653-8591-4c0e-fcd2-848dca34d567"
      },
      "execution_count": 37,
      "outputs": [
        {
          "output_type": "execute_result",
          "data": {
            "text/plain": [
              "array([ 5751, 11900,  8500, ...,  8500, 13500,  8950])"
            ]
          },
          "metadata": {},
          "execution_count": 37
        }
      ]
    },
    {
      "cell_type": "markdown",
      "source": [
        "# ML ALGORITHM - MUltiple Linear Regression"
      ],
      "metadata": {
        "id": "jU76rS4PA_OS"
      }
    },
    {
      "cell_type": "code",
      "source": [
        "#Fitting the model\n",
        "from sklearn.linear_model import LinearRegression\n",
        "regressor = LinearRegression()\n",
        "regressor.fit(X_train,y_train)"
      ],
      "metadata": {
        "colab": {
          "base_uri": "https://localhost:8080/",
          "height": 75
        },
        "id": "dTf-rkkCQZgZ",
        "outputId": "8870a096-40a8-4764-b49e-0055f9625040"
      },
      "execution_count": 38,
      "outputs": [
        {
          "output_type": "execute_result",
          "data": {
            "text/plain": [
              "LinearRegression()"
            ],
            "text/html": [
              "<style>#sk-container-id-2 {color: black;background-color: white;}#sk-container-id-2 pre{padding: 0;}#sk-container-id-2 div.sk-toggleable {background-color: white;}#sk-container-id-2 label.sk-toggleable__label {cursor: pointer;display: block;width: 100%;margin-bottom: 0;padding: 0.3em;box-sizing: border-box;text-align: center;}#sk-container-id-2 label.sk-toggleable__label-arrow:before {content: \"▸\";float: left;margin-right: 0.25em;color: #696969;}#sk-container-id-2 label.sk-toggleable__label-arrow:hover:before {color: black;}#sk-container-id-2 div.sk-estimator:hover label.sk-toggleable__label-arrow:before {color: black;}#sk-container-id-2 div.sk-toggleable__content {max-height: 0;max-width: 0;overflow: hidden;text-align: left;background-color: #f0f8ff;}#sk-container-id-2 div.sk-toggleable__content pre {margin: 0.2em;color: black;border-radius: 0.25em;background-color: #f0f8ff;}#sk-container-id-2 input.sk-toggleable__control:checked~div.sk-toggleable__content {max-height: 200px;max-width: 100%;overflow: auto;}#sk-container-id-2 input.sk-toggleable__control:checked~label.sk-toggleable__label-arrow:before {content: \"▾\";}#sk-container-id-2 div.sk-estimator input.sk-toggleable__control:checked~label.sk-toggleable__label {background-color: #d4ebff;}#sk-container-id-2 div.sk-label input.sk-toggleable__control:checked~label.sk-toggleable__label {background-color: #d4ebff;}#sk-container-id-2 input.sk-hidden--visually {border: 0;clip: rect(1px 1px 1px 1px);clip: rect(1px, 1px, 1px, 1px);height: 1px;margin: -1px;overflow: hidden;padding: 0;position: absolute;width: 1px;}#sk-container-id-2 div.sk-estimator {font-family: monospace;background-color: #f0f8ff;border: 1px dotted black;border-radius: 0.25em;box-sizing: border-box;margin-bottom: 0.5em;}#sk-container-id-2 div.sk-estimator:hover {background-color: #d4ebff;}#sk-container-id-2 div.sk-parallel-item::after {content: \"\";width: 100%;border-bottom: 1px solid gray;flex-grow: 1;}#sk-container-id-2 div.sk-label:hover label.sk-toggleable__label {background-color: #d4ebff;}#sk-container-id-2 div.sk-serial::before {content: \"\";position: absolute;border-left: 1px solid gray;box-sizing: border-box;top: 0;bottom: 0;left: 50%;z-index: 0;}#sk-container-id-2 div.sk-serial {display: flex;flex-direction: column;align-items: center;background-color: white;padding-right: 0.2em;padding-left: 0.2em;position: relative;}#sk-container-id-2 div.sk-item {position: relative;z-index: 1;}#sk-container-id-2 div.sk-parallel {display: flex;align-items: stretch;justify-content: center;background-color: white;position: relative;}#sk-container-id-2 div.sk-item::before, #sk-container-id-2 div.sk-parallel-item::before {content: \"\";position: absolute;border-left: 1px solid gray;box-sizing: border-box;top: 0;bottom: 0;left: 50%;z-index: -1;}#sk-container-id-2 div.sk-parallel-item {display: flex;flex-direction: column;z-index: 1;position: relative;background-color: white;}#sk-container-id-2 div.sk-parallel-item:first-child::after {align-self: flex-end;width: 50%;}#sk-container-id-2 div.sk-parallel-item:last-child::after {align-self: flex-start;width: 50%;}#sk-container-id-2 div.sk-parallel-item:only-child::after {width: 0;}#sk-container-id-2 div.sk-dashed-wrapped {border: 1px dashed gray;margin: 0 0.4em 0.5em 0.4em;box-sizing: border-box;padding-bottom: 0.4em;background-color: white;}#sk-container-id-2 div.sk-label label {font-family: monospace;font-weight: bold;display: inline-block;line-height: 1.2em;}#sk-container-id-2 div.sk-label-container {text-align: center;}#sk-container-id-2 div.sk-container {/* jupyter's `normalize.less` sets `[hidden] { display: none; }` but bootstrap.min.css set `[hidden] { display: none !important; }` so we also need the `!important` here to be able to override the default hidden behavior on the sphinx rendered scikit-learn.org. See: https://github.com/scikit-learn/scikit-learn/issues/21755 */display: inline-block !important;position: relative;}#sk-container-id-2 div.sk-text-repr-fallback {display: none;}</style><div id=\"sk-container-id-2\" class=\"sk-top-container\"><div class=\"sk-text-repr-fallback\"><pre>LinearRegression()</pre><b>In a Jupyter environment, please rerun this cell to show the HTML representation or trust the notebook. <br />On GitHub, the HTML representation is unable to render, please try loading this page with nbviewer.org.</b></div><div class=\"sk-container\" hidden><div class=\"sk-item\"><div class=\"sk-estimator sk-toggleable\"><input class=\"sk-toggleable__control sk-hidden--visually\" id=\"sk-estimator-id-2\" type=\"checkbox\" checked><label for=\"sk-estimator-id-2\" class=\"sk-toggleable__label sk-toggleable__label-arrow\">LinearRegression</label><div class=\"sk-toggleable__content\"><pre>LinearRegression()</pre></div></div></div></div></div>"
            ]
          },
          "metadata": {},
          "execution_count": 38
        }
      ]
    },
    {
      "cell_type": "code",
      "source": [
        "# Predicting the Test set results\n",
        "y_pred = regressor.predict(X_test)"
      ],
      "metadata": {
        "id": "kGAfwSb4QfBA"
      },
      "execution_count": 39,
      "outputs": []
    },
    {
      "cell_type": "code",
      "source": [
        "y_pred"
      ],
      "metadata": {
        "colab": {
          "base_uri": "https://localhost:8080/"
        },
        "id": "tWzJ3BvpQ6FD",
        "outputId": "c6e0f4a7-713d-42fd-e7c7-c693e3532659"
      },
      "execution_count": 24,
      "outputs": [
        {
          "output_type": "execute_result",
          "data": {
            "text/plain": [
              "array([ 8167.17554158, 10517.76427163, 13061.07032505,  7525.34787714,\n",
              "       10520.12401331,  9467.35416385,  5980.02560406, 15631.3140919 ,\n",
              "       11210.79333328, 10656.27214785,  6842.04353274, 11359.38762721,\n",
              "       11817.21302078,  9718.65370549,  7363.47012147, 15527.18118607,\n",
              "       11148.72355312,  7509.55784797, 13054.62351976,  8634.1794741 ,\n",
              "        7085.19620863,  6330.56812505, 11630.90145065, 12635.29547332,\n",
              "       19134.48530541,  7594.35344483, 14138.02873473,  5693.47198885,\n",
              "        9112.26270149,  7849.98494428, 10594.19967606,  7926.33402726,\n",
              "       16780.1304787 ,  7151.59867182, 10456.45752181, 12807.90122521,\n",
              "        9647.35872931, 12402.22050129,  9417.85292371,  9404.20882121,\n",
              "        9361.94589854, 10584.30939682,  9710.80607818, 16849.00400035,\n",
              "       10501.34123904,  7379.59767045,  9698.34964509,  7406.89695127,\n",
              "        8754.62565914,  8612.84022599, 18936.92140321,  8375.84524953,\n",
              "        7154.9483052 ,  6885.91541232, 11360.24626732, 18257.52668777,\n",
              "       13830.3149909 , 10044.26787993, 18855.16214359, 10500.21778641,\n",
              "        6449.68685046,  7777.89901112, 11039.75598856, 12310.56741409,\n",
              "       10678.52636568, 14072.23636996,  8628.969679  ,  7215.69919425,\n",
              "       17537.71233246, 10225.66534871,  9735.32317765,  4282.61149503,\n",
              "       12899.01441408,  6485.26463504, 15360.87946562, 13278.49908834,\n",
              "       10567.78539498,  6737.23108593,  7931.06621469,  7970.67843597,\n",
              "        7135.23269077,  8668.4444447 ,  6075.97382166, 11430.26998504,\n",
              "       11560.13455961, 10101.53519118, 10932.47082512, 12558.57948731,\n",
              "        7772.75017937,  9401.65178634,  6902.37047075, 10641.41832778,\n",
              "       16550.27614148, 13172.83211904,  7932.08906667, 12176.35327916,\n",
              "       16117.74892225,  9944.76629451, 13592.31282888,  7416.48171096,\n",
              "        8152.85951931, 11824.69355956, 11852.13827878,  8334.52795694,\n",
              "        8769.36968228, 18670.1972609 , 17771.09357128,  8122.52696329,\n",
              "       14437.34184418,  8920.22053243, 13088.31610767,  9045.5802452 ,\n",
              "       10389.65992093,  9102.72228117, 13262.83047626,  9692.86741395,\n",
              "        9741.88539005, 12206.57327371,  9259.05856238,  8016.30950762,\n",
              "       16850.23123079,  7795.7457861 , 14134.42862894, 10210.7836988 ,\n",
              "        7920.00294127, 21712.99767989,  7377.98671431, 10040.75696368,\n",
              "        9224.94448801,  9897.2306394 , 17151.48449893,  9105.51959385,\n",
              "       10828.51350963,  9753.54638922, 19047.77436143, 11532.0510407 ,\n",
              "       12057.94765125, 13062.44260591, 10217.67313253, 13128.03001575,\n",
              "       15627.07054084, 10185.31519341,  8284.49084289,  8136.14326568,\n",
              "        9018.71866269, 18102.51164133, 10614.80815814, 12752.13860616,\n",
              "       11233.26979355, 12292.98807411,  8203.14752907, 13798.29678412,\n",
              "       10101.9068209 ,  7144.44893022, 11352.49659687, 14832.76158374,\n",
              "       10013.32378427,  9663.46956705,  7597.90331126,  8438.65697475,\n",
              "        7786.18949033,  9002.67644524,  8815.64117767, 15411.79132251,\n",
              "       11332.79496079,  8197.13131581, 20609.07538762,  9285.90336535,\n",
              "        9490.88604547, 15119.76424411,  9890.98687429, 10144.41887066,\n",
              "       10221.86072939,  8138.87383662,  7924.10590396, 10172.58864741,\n",
              "        8810.03863633, 12940.37845161, 16319.95339559, 10525.23690281,\n",
              "       11360.99149384,  9387.33310408,  8100.62902467, 15123.29938282,\n",
              "       12309.03426636,  9601.06625219,  9427.33425841, 17413.55199298,\n",
              "       16982.26228368,  7195.48625749,  9920.31135203,  8115.55153216,\n",
              "        5795.51559293, 12486.73156605, 10265.44283957,  8187.28229714,\n",
              "       17530.4893544 ,  7454.72424884,  7931.37756318,  5856.70467828,\n",
              "        9488.43457871, 11700.68143376, 13746.71596377, 14915.82153986,\n",
              "       11179.29485057,  9929.02281558, 11968.09496365, 10802.30234764,\n",
              "        9160.12608775,  6817.35952745, 13740.92298423,  8371.22611479,\n",
              "        8930.83429349,  7404.72389902,  6986.1122297 , 16042.18653041,\n",
              "       20586.93276838, 11017.15825985,  7967.95025283, 11755.96291298,\n",
              "        7493.25976557,  7640.73653336, 10185.7083193 ,  8192.92146938,\n",
              "       13614.74124382, 10615.46150349,  9998.35398237, 17478.75675945,\n",
              "       10462.13713797, 10751.34832178,  8329.29563584,  9917.70454823,\n",
              "       10459.79615945, 14021.77821437,  7299.66656554,  9673.48726424,\n",
              "        7418.99238865,  7210.85731754,  8409.52383446, 13507.8078193 ,\n",
              "       10544.7288942 ,  9168.57362596,  6796.62663981,  9435.93978871,\n",
              "       19606.67590923,  7611.25321466, 11740.57398327, 11932.17185583,\n",
              "       10536.21931798,  9036.22162448,  8158.29683787,  8791.12561227,\n",
              "       11724.66550873, 10261.11419995, 15924.08148228,  8451.45513398,\n",
              "        9468.14762961, 16165.40734142,  8794.10263623,  9594.96627241,\n",
              "       20005.26819668, 10078.75643851, 15925.84670321,  8908.15163422,\n",
              "       15382.51525121,  9963.19132222, 16593.91611188,  8369.67421762,\n",
              "        7991.11452173, 10422.31229192, 12524.11814124,  9909.8184649 ,\n",
              "       11333.44246468, 11930.70916808,  8436.23544219, 17581.59742848,\n",
              "       20946.80711316,  6836.14300751,  8371.9134477 , 12833.21219551,\n",
              "        7369.10222522,  8836.17261038,  6493.48892385, 11347.90283732,\n",
              "        9911.05776467,  9978.84943464, 12961.67896362,  7232.39845374])"
            ]
          },
          "metadata": {},
          "execution_count": 24
        }
      ]
    },
    {
      "cell_type": "code",
      "source": [
        "y_test"
      ],
      "metadata": {
        "colab": {
          "base_uri": "https://localhost:8080/"
        },
        "id": "d057JSXXQ-nt",
        "outputId": "6191f9cb-c3e1-4ce1-c347-b56ba6c24f1f"
      },
      "execution_count": 40,
      "outputs": [
        {
          "output_type": "execute_result",
          "data": {
            "text/plain": [
              "array([ 7950, 10950, 14950,  7500,  9900,  8900,  6950, 15750, 11950,\n",
              "        9930,  8500, 10450, 11895,  9950,  6450, 15500, 11950,  6900,\n",
              "       10950,  9750,  7350,  8950, 13750, 14950, 19950,  9450, 11500,\n",
              "        8500,  9450,  8800, 11450, 10500, 13750,  8250, 10950, 11950,\n",
              "        8950, 12900,  9500,  9950,  8950,  9500,  9950, 15500, 10950,\n",
              "        7500,  9450,  9500, 10845,  8500, 19750,  8950,  7250,  6750,\n",
              "       10950, 19950, 11000,  8950, 17795, 10500,  5740,  7750, 10950,\n",
              "       10500, 12500, 12900,  8450,  7950, 19450, 11450,  9500,  4450,\n",
              "       11690,  7900, 14750, 14990,  9950,  7450,  6950,  8250,  6750,\n",
              "        6900,  5950, 12750, 11950, 10750,  8950, 11950,  8250,  7450,\n",
              "        6950, 10750, 17450,  9940,  7950, 12250, 12950, 10950, 12450,\n",
              "        6900,  8500, 10750,  9700,  9250,  7900, 19000, 18450,  8500,\n",
              "       13250, 10400, 12500,  9200,  8500,  8250, 13750,  8950,  7950,\n",
              "       10950,  9900,  7750, 20500,  9950, 13995, 10250,  7950, 23950,\n",
              "        7950, 11500,  9250,  9950, 17950,  8950,  9980, 10500, 21125,\n",
              "       11950, 11950, 12450,  7995, 13500, 15750,  8850,  8750,  7750,\n",
              "        9895, 20750, 11950, 13950, 10950, 11950,  7950, 12950,  9950,\n",
              "        8950, 11450, 16950,  9900,  8950,  8450,  8750,  7400,  8500,\n",
              "        7800, 16750,  9950,  6450, 21950,  8750,  8200, 15800, 10450,\n",
              "       10900,  9950,  7500,  8250,  9950,  8250, 11900, 16450,  9995,\n",
              "       10950,  8950,  9250, 14750, 11450,  8750,  8950, 13950, 13750,\n",
              "        5950,  9950,  8500,  4750, 10950, 10950,  8950, 18950,  8950,\n",
              "        7950,  6500,  9900, 10750, 13950, 15250, 11500,  8750, 10450,\n",
              "       11950,  8950,  6950, 10950,  6950,  9250,  7950,  7250, 17950,\n",
              "       22500, 10500,  7600, 10950,  6900,  6500,  9950,  9800, 12950,\n",
              "        9950,  9450, 16950,  9950, 10950,  7750, 10950,  8750, 12950,\n",
              "        8050,  8950,  7450,  7950,  8250, 14950,  8695,  9950,  5950,\n",
              "        7950, 18950,  7200, 12950,  6950, 11950,  8950,  8750,  7750,\n",
              "       12950,  9450,  7500, 10000,  9900, 16500,  8950, 10750, 19950,\n",
              "        9950, 14750,  6900, 13950,  8950, 16950,  9800,  7950,  9450,\n",
              "       12900,  8950, 10750, 13950,  6950, 19500, 21500,  7450,  9950,\n",
              "       11500,  6900,  8450,  5250, 10450,  9400,  9950, 11750,  7950])"
            ]
          },
          "metadata": {},
          "execution_count": 40
        }
      ]
    },
    {
      "cell_type": "code",
      "source": [
        "#Measuring Accuracy\n",
        "from sklearn.metrics import mean_absolute_percentage_error, r2_score\n",
        "\n",
        "mape = mean_absolute_percentage_error(y_true=y_test,y_pred=y_pred)\n",
        "rsquare = r2_score(y_true=y_test, y_pred=y_pred)\n",
        "\n",
        "print(\"MAPE:\",mape)\n",
        "print(\"Adj.Rsquare:\", rsquare)"
      ],
      "metadata": {
        "colab": {
          "base_uri": "https://localhost:8080/"
        },
        "id": "AtodfisGQ_qz",
        "outputId": "1a101eed-137b-4559-f45e-6ddc2d4b66df"
      },
      "execution_count": 41,
      "outputs": [
        {
          "output_type": "stream",
          "name": "stdout",
          "text": [
            "MAPE: 0.1081560541785464\n",
            "Adj.Rsquare: 0.5995582859225217\n"
          ]
        }
      ]
    },
    {
      "cell_type": "markdown",
      "source": [
        "# MLR OPTIMAL MODEL"
      ],
      "metadata": {
        "id": "OwTgS-w8TI4X"
      }
    },
    {
      "cell_type": "code",
      "source": [
        "#Backward Elimination:\n",
        "X_opt = X[:,:]\n",
        "X_opt = np.array(X_opt, dtype=float)\n",
        "regressor_OLS = sm.OLS(endog=y, exog=X_opt).fit()\n",
        "regressor_OLS.summary()"
      ],
      "metadata": {
        "id": "f5iZXVuRTmeC",
        "colab": {
          "base_uri": "https://localhost:8080/",
          "height": 632
        },
        "outputId": "25e77601-4d28-4a35-9ec3-aa16c94a3b77"
      },
      "execution_count": 47,
      "outputs": [
        {
          "output_type": "execute_result",
          "data": {
            "text/plain": [
              "<class 'statsmodels.iolib.summary.Summary'>\n",
              "\"\"\"\n",
              "                                 OLS Regression Results                                \n",
              "=======================================================================================\n",
              "Dep. Variable:                      y   R-squared (uncentered):                   0.986\n",
              "Model:                            OLS   Adj. R-squared (uncentered):              0.986\n",
              "Method:                 Least Squares   F-statistic:                          1.247e+04\n",
              "Date:                Mon, 27 Mar 2023   Prob (F-statistic):                        0.00\n",
              "Time:                        09:54:11   Log-Likelihood:                         -12383.\n",
              "No. Observations:                1436   AIC:                                  2.478e+04\n",
              "Df Residuals:                    1428   BIC:                                  2.482e+04\n",
              "Df Model:                           8                                                  \n",
              "Covariance Type:            nonrobust                                                  \n",
              "==============================================================================\n",
              "                 coef    std err          t      P>|t|      [0.025      0.975]\n",
              "------------------------------------------------------------------------------\n",
              "x1          -125.4510      2.445    -51.303      0.000    -130.248    -120.654\n",
              "x2            -0.0205      0.001    -16.305      0.000      -0.023      -0.018\n",
              "x3            33.4737      2.796     11.973      0.000      27.990      38.958\n",
              "x4            -0.1032      0.090     -1.141      0.254      -0.281       0.074\n",
              "x5            -7.2494     40.184     -0.180      0.857     -86.075      71.576\n",
              "x6            78.3780    148.258      0.529      0.597    -212.449     369.205\n",
              "x7             5.8258      1.227      4.748      0.000       3.419       8.233\n",
              "x8            14.0322      0.773     18.157      0.000      12.516      15.548\n",
              "==============================================================================\n",
              "Omnibus:                      108.641   Durbin-Watson:                   1.509\n",
              "Prob(Omnibus):                  0.000   Jarque-Bera (JB):              562.996\n",
              "Skew:                           0.019   Prob(JB):                    5.59e-123\n",
              "Kurtosis:                       6.067   Cond. No.                     3.26e+05\n",
              "==============================================================================\n",
              "\n",
              "Notes:\n",
              "[1] R² is computed without centering (uncentered) since the model does not contain a constant.\n",
              "[2] Standard Errors assume that the covariance matrix of the errors is correctly specified.\n",
              "[3] The condition number is large, 3.26e+05. This might indicate that there are\n",
              "strong multicollinearity or other numerical problems.\n",
              "\"\"\""
            ],
            "text/html": [
              "<table class=\"simpletable\">\n",
              "<caption>OLS Regression Results</caption>\n",
              "<tr>\n",
              "  <th>Dep. Variable:</th>            <td>y</td>        <th>  R-squared (uncentered):</th>      <td>   0.986</td> \n",
              "</tr>\n",
              "<tr>\n",
              "  <th>Model:</th>                   <td>OLS</td>       <th>  Adj. R-squared (uncentered):</th> <td>   0.986</td> \n",
              "</tr>\n",
              "<tr>\n",
              "  <th>Method:</th>             <td>Least Squares</td>  <th>  F-statistic:       </th>          <td>1.247e+04</td>\n",
              "</tr>\n",
              "<tr>\n",
              "  <th>Date:</th>             <td>Mon, 27 Mar 2023</td> <th>  Prob (F-statistic):</th>           <td>  0.00</td>  \n",
              "</tr>\n",
              "<tr>\n",
              "  <th>Time:</th>                 <td>09:54:11</td>     <th>  Log-Likelihood:    </th>          <td> -12383.</td> \n",
              "</tr>\n",
              "<tr>\n",
              "  <th>No. Observations:</th>      <td>  1436</td>      <th>  AIC:               </th>          <td>2.478e+04</td>\n",
              "</tr>\n",
              "<tr>\n",
              "  <th>Df Residuals:</th>          <td>  1428</td>      <th>  BIC:               </th>          <td>2.482e+04</td>\n",
              "</tr>\n",
              "<tr>\n",
              "  <th>Df Model:</th>              <td>     8</td>      <th>                     </th>              <td> </td>    \n",
              "</tr>\n",
              "<tr>\n",
              "  <th>Covariance Type:</th>      <td>nonrobust</td>    <th>                     </th>              <td> </td>    \n",
              "</tr>\n",
              "</table>\n",
              "<table class=\"simpletable\">\n",
              "<tr>\n",
              "   <td></td>     <th>coef</th>     <th>std err</th>      <th>t</th>      <th>P>|t|</th>  <th>[0.025</th>    <th>0.975]</th>  \n",
              "</tr>\n",
              "<tr>\n",
              "  <th>x1</th> <td> -125.4510</td> <td>    2.445</td> <td>  -51.303</td> <td> 0.000</td> <td> -130.248</td> <td> -120.654</td>\n",
              "</tr>\n",
              "<tr>\n",
              "  <th>x2</th> <td>   -0.0205</td> <td>    0.001</td> <td>  -16.305</td> <td> 0.000</td> <td>   -0.023</td> <td>   -0.018</td>\n",
              "</tr>\n",
              "<tr>\n",
              "  <th>x3</th> <td>   33.4737</td> <td>    2.796</td> <td>   11.973</td> <td> 0.000</td> <td>   27.990</td> <td>   38.958</td>\n",
              "</tr>\n",
              "<tr>\n",
              "  <th>x4</th> <td>   -0.1032</td> <td>    0.090</td> <td>   -1.141</td> <td> 0.254</td> <td>   -0.281</td> <td>    0.074</td>\n",
              "</tr>\n",
              "<tr>\n",
              "  <th>x5</th> <td>   -7.2494</td> <td>   40.184</td> <td>   -0.180</td> <td> 0.857</td> <td>  -86.075</td> <td>   71.576</td>\n",
              "</tr>\n",
              "<tr>\n",
              "  <th>x6</th> <td>   78.3780</td> <td>  148.258</td> <td>    0.529</td> <td> 0.597</td> <td> -212.449</td> <td>  369.205</td>\n",
              "</tr>\n",
              "<tr>\n",
              "  <th>x7</th> <td>    5.8258</td> <td>    1.227</td> <td>    4.748</td> <td> 0.000</td> <td>    3.419</td> <td>    8.233</td>\n",
              "</tr>\n",
              "<tr>\n",
              "  <th>x8</th> <td>   14.0322</td> <td>    0.773</td> <td>   18.157</td> <td> 0.000</td> <td>   12.516</td> <td>   15.548</td>\n",
              "</tr>\n",
              "</table>\n",
              "<table class=\"simpletable\">\n",
              "<tr>\n",
              "  <th>Omnibus:</th>       <td>108.641</td> <th>  Durbin-Watson:     </th> <td>   1.509</td> \n",
              "</tr>\n",
              "<tr>\n",
              "  <th>Prob(Omnibus):</th> <td> 0.000</td>  <th>  Jarque-Bera (JB):  </th> <td> 562.996</td> \n",
              "</tr>\n",
              "<tr>\n",
              "  <th>Skew:</th>          <td> 0.019</td>  <th>  Prob(JB):          </th> <td>5.59e-123</td>\n",
              "</tr>\n",
              "<tr>\n",
              "  <th>Kurtosis:</th>      <td> 6.067</td>  <th>  Cond. No.          </th> <td>3.26e+05</td> \n",
              "</tr>\n",
              "</table><br/><br/>Notes:<br/>[1] R² is computed without centering (uncentered) since the model does not contain a constant.<br/>[2] Standard Errors assume that the covariance matrix of the errors is correctly specified.<br/>[3] The condition number is large, 3.26e+05. This might indicate that there are<br/>strong multicollinearity or other numerical problems."
            ]
          },
          "metadata": {},
          "execution_count": 47
        }
      ]
    },
    {
      "cell_type": "code",
      "source": [
        "X_opt = X[:, [0,1,3,4,5]]\n",
        "X_opt = np.array(X_opt, dtype=float)\n",
        "regressor_OLS = sm.OLS(endog=y, exog=X_opt).fit()\n",
        "regressor_OLS.summary()"
      ],
      "metadata": {
        "id": "eLXeBq9CVE2e"
      },
      "execution_count": null,
      "outputs": []
    },
    {
      "cell_type": "code",
      "source": [
        "X_opt = X[:, [0,3,4,5]]\n",
        "X_opt = np.array(X_opt, dtype=float)\n",
        "regressor_OLS = sm.OLS(endog=y, exog=X_opt).fit()\n",
        "regressor_OLS.summary()"
      ],
      "metadata": {
        "id": "GKvwdpcFWQXk"
      },
      "execution_count": null,
      "outputs": []
    },
    {
      "cell_type": "code",
      "source": [
        "X_opt = X[:, [0,3,5]]\n",
        "X_opt = np.array(X_opt, dtype=float)\n",
        "regressor_OLS = sm.OLS(endog=y, exog=X_opt).fit()\n",
        "regressor_OLS.summary()"
      ],
      "metadata": {
        "id": "gdejjepVWjZU"
      },
      "execution_count": null,
      "outputs": []
    },
    {
      "cell_type": "code",
      "source": [
        "X_opt = X[:, [0,3]]\n",
        "X_opt = np.array(X_opt, dtype=float)\n",
        "regressor_OLS = sm.OLS(endog=y, exog=X_opt).fit()\n",
        "regressor_OLS.summary()\n",
        "#the inference of this code is we get to know that 3 is the most impacting value for our profit.\n",
        "#column with index 3 in the actual dataset post adding the states as 0 and 1, check X value post Encoding categorical Data-Index of data points is R&D"
      ],
      "metadata": {
        "id": "cY-YRrg_XEM-"
      },
      "execution_count": null,
      "outputs": []
    },
    {
      "cell_type": "markdown",
      "source": [
        "# DATA VISUALISATION"
      ],
      "metadata": {
        "id": "QKk8h1QhBEdH"
      }
    },
    {
      "cell_type": "code",
      "source": [
        "import seaborn as sns\n",
        "sns.lmplot(x=\"R&D Spend\", y=\"Profit\", data=dataset)"
      ],
      "metadata": {
        "id": "pvZLC1OeBG3X"
      },
      "execution_count": null,
      "outputs": []
    },
    {
      "cell_type": "code",
      "source": [],
      "metadata": {
        "id": "vsbZR7xLneRm"
      },
      "execution_count": null,
      "outputs": []
    },
    {
      "cell_type": "code",
      "source": [],
      "metadata": {
        "id": "Vdyft7KBnQV3"
      },
      "execution_count": null,
      "outputs": []
    }
  ]
}